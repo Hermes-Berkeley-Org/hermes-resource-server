{
 "cells": [
  {
   "cell_type": "code",
   "execution_count": 25,
   "metadata": {
    "collapsed": true
   },
   "outputs": [],
   "source": [
    "from bs4 import BeautifulSoup"
   ]
  },
  {
   "cell_type": "code",
   "execution_count": 26,
   "metadata": {
    "collapsed": true
   },
   "outputs": [],
   "source": [
    "from gensim.models import Doc2Vec"
   ]
  },
  {
   "cell_type": "code",
   "execution_count": 27,
   "metadata": {
    "collapsed": true
   },
   "outputs": [],
   "source": [
    "from gensim.models.doc2vec import TaggedDocument"
   ]
  },
  {
   "cell_type": "code",
   "execution_count": 28,
   "metadata": {
    "collapsed": true
   },
   "outputs": [],
   "source": [
    "BASE_URL = 'http://composingprograms.com/'"
   ]
  },
  {
   "cell_type": "code",
   "execution_count": 29,
   "metadata": {
    "collapsed": true
   },
   "outputs": [],
   "source": [
    "import requests"
   ]
  },
  {
   "cell_type": "code",
   "execution_count": 30,
   "metadata": {
    "collapsed": true
   },
   "outputs": [],
   "source": [
    "homesoup = BeautifulSoup(requests.get(BASE_URL).text, 'html.parser')"
   ]
  },
  {
   "cell_type": "code",
   "execution_count": 31,
   "metadata": {},
   "outputs": [
    {
     "data": {
      "text/plain": [
       "<!DOCTYPE html>\n",
       "\n",
       "<html lang=\"en\">\n",
       "<head>\n",
       "<title>Composing Programs</title>\n",
       "<meta charset=\"utf-8\"/>\n",
       "<link href=\"./theme/css/cp.css\" rel=\"stylesheet\" type=\"text/css\"/>\n",
       "</head>\n",
       "<body class=\"home\" id=\"index\">\n",
       "<div class=\"container\">\n",
       "<div class=\"nav-main\">\n",
       "<div class=\"wrap\">\n",
       "<a class=\"nav-home\" href=\".\">\n",
       "<span class=\"nav-logo\">c<span class=\"nav-logo-compose\">â¬</span>mp<span class=\"nav-logo-compose\">â¬</span>sing pr<span class=\"nav-logo-compose\">â¬</span>grams</span>\n",
       "</a>\n",
       "<ul class=\"nav-site\">\n",
       "<li><a href=\"./\">Text</a></li>\n",
       "<li><a href=\"./projects.html\">Projects</a></li>\n",
       "<li><a href=\"./tutor.html\">Tutor</a></li>\n",
       "<li><a href=\"./about.html\">About</a></li>\n",
       "</ul>\n",
       "</div>\n",
       "</div>\n",
       "<section class=\"content wrap documentationContent\">\n",
       "<div class=\"nav-docs\">\n",
       "<div class=\"nav-docs-section\">\n",
       "<h3>Main</h3>\n",
       "<ul>\n",
       "<li><a href=\"./\">Text</a></li>\n",
       "<li><a href=\"./projects.html\">Projects</a></li>\n",
       "<li><a href=\"./tutor.html\">Tutor</a></li>\n",
       "<li><a href=\"./about.html\">About</a></li>\n",
       "</ul>\n",
       "</div>\n",
       "<div class=\"nav-docs-section\">\n",
       "<h3>Related Sites</h3>\n",
       "<ul>\n",
       "<li><a href=\"http://inst.eecs.berkeley.edu/~cs61a\">CS 61A Course</a></li>\n",
       "<li><a href=\"versions/v1/\">Version 1</a></li>\n",
       "</ul>\n",
       "</div>\n",
       "</div>\n",
       "<div class=\"inner-content\">\n",
       "<p>Welcome to <a href=\"http://www.composingprograms.com\">Composing Programs</a>, a free online introduction to programming and computer science.\n",
       "\n",
       "\t<p>In the tradition of <a href=\"http://mitpress.mit.edu/sicp/\">SICP</a>, this text focuses on methods for abstraction, programming paradigms, and techniques for managing the complexity of large programs.  These concepts are illustrated primarily using the <a href=\"http://www.python.org\">Python 3</a> programming language.\n",
       "\n",
       "\t<p>In addition to reading the chapters below, you can apply your knowledge to the <a href=\"projects.html\">programming projects</a> that accompany the text and visualize program execution using the <a href=\"tutor.html\">Online Python Tutor</a>.\n",
       "\n",
       "\t<p><b>Instructors</b>: If you are interested in adapting any of these materials for your courses, please <a href=\"https://docs.google.com/forms/d/1lcDf-_y9t1oSDH_-HFz3UhUFouAX1518XeCMnlRISss/viewform\">fill out this short survey</a> so that we can support your efforts.\n",
       "\n",
       "\t\t\t<h3>Chapter 1: Building Abstractions with Functions</h3>\n",
       "<li><a href=\"./pages/11-getting-started.html\">1.1 Getting Started</a></li>\n",
       "<li><a href=\"./pages/12-elements-of-programming.html\">1.2 Elements of Programming</a></li>\n",
       "<li><a href=\"./pages/13-defining-new-functions.html\">1.3 Defining New Functions</a></li>\n",
       "<li><a href=\"./pages/14-designing-functions.html\">1.4 Designing Functions</a></li>\n",
       "<li><a href=\"./pages/15-control.html\">1.5 Control</a></li>\n",
       "<li><a href=\"./pages/16-higher-order-functions.html\">1.6 Higher-Order Functions</a></li>\n",
       "<li><a href=\"./pages/17-recursive-functions.html\">1.7 Recursive Functions</a></li>\n",
       "<h3>Chapter 2: Building Abstractions with Data</h3>\n",
       "<li><a href=\"./pages/21-introduction.html\">2.1 Introduction</a></li>\n",
       "<li><a href=\"./pages/22-data-abstraction.html\">2.2 Data Abstraction</a></li>\n",
       "<li><a href=\"./pages/23-sequences.html\">2.3 Sequences</a></li>\n",
       "<li><a href=\"./pages/24-mutable-data.html\">2.4 Mutable Data</a></li>\n",
       "<li><a href=\"./pages/25-object-oriented-programming.html\">2.5 Object-Oriented Programming</a></li>\n",
       "<li><a href=\"./pages/26-implementing-classes-and-objects.html\">2.6 Implementing Classes and Objects</a></li>\n",
       "<li><a href=\"./pages/27-object-abstraction.html\">2.7 Object Abstraction</a></li>\n",
       "<li><a href=\"./pages/28-efficiency.html\">2.8 Efficiency</a></li>\n",
       "<li><a href=\"./pages/29-recursive-objects.html\">2.9 Recursive Objects</a></li>\n",
       "<h3>Chapter 3: Interpreting Computer Programs</h3>\n",
       "<li><a href=\"./pages/31-introduction.html\">3.1 Introduction</a></li>\n",
       "<li><a href=\"./pages/32-functional-programming.html\">3.2 Functional Programming</a></li>\n",
       "<li><a href=\"./pages/33-exceptions.html\">3.3 Exceptions</a></li>\n",
       "<li><a href=\"./pages/34-interpreters-for-languages-with-combination.html\">3.4 Interpreters for Languages with Combination</a></li>\n",
       "<li><a href=\"./pages/35-interpreters-for-languages-with-abstraction.html\">3.5 Interpreters for Languages with Abstraction</a></li>\n",
       "<h3>Chapter 4: Data Processing</h3>\n",
       "<li><a href=\"./pages/41-introduction.html\">4.1 Introduction</a></li>\n",
       "<li><a href=\"./pages/42-implicit-sequences.html\">4.2 Implicit Sequences</a></li>\n",
       "<li><a href=\"./pages/43-declarative-programming.html\">4.3 Declarative Programming</a></li>\n",
       "<li><a href=\"./pages/44-logic-programming.html\">4.4 Logic Programming</a></li>\n",
       "<li><a href=\"./pages/45-unification.html\">4.5 Unification</a></li>\n",
       "<li><a href=\"./pages/46-distributed-computing.html\">4.6 Distributed Computing</a></li>\n",
       "<li><a href=\"./pages/47-distributed-data-processing.html\">4.7 Distributed Data Processing</a></li>\n",
       "<li><a href=\"./pages/48-parallel-computing.html\">4.8 Parallel Computing</a></li>\n",
       "</p></p></p></p></div>\n",
       "</section>\n",
       "<div class=\"wrap\">\n",
       "<footer class=\"body\" id=\"contentinfo\">\n",
       "          Composing Programs by <a href=\"http://www.denero.org\">John\n",
       "          DeNero</a>, based on the textbook <a href=\"http://mitpress.mit.edu/sicp/\">Structure and\n",
       "          Interpretation of Computer Programs</a> by Harold Abelson and\n",
       "          Gerald Jay Sussman, is licensed under a <a href=\"http://creativecommons.org/licenses/by-sa/3.0/\" rel=\"license\">Creative\n",
       "          Commons Attribution-ShareAlike 3.0 Unported License</a>.\n",
       "      </footer><!-- /#contentinfo -->\n",
       "</div>\n",
       "</div>\n",
       "</body>\n",
       "</html>"
      ]
     },
     "execution_count": 31,
     "metadata": {},
     "output_type": "execute_result"
    }
   ],
   "source": [
    "homesoup"
   ]
  },
  {
   "cell_type": "code",
   "execution_count": 32,
   "metadata": {
    "collapsed": true
   },
   "outputs": [],
   "source": [
    "pages = [a for a in homesoup.find_all('a') if './pages/' in a['href']] # generalize later"
   ]
  },
  {
   "cell_type": "code",
   "execution_count": 33,
   "metadata": {},
   "outputs": [
    {
     "data": {
      "text/plain": [
       "'http://composingprograms.com/pages/11-getting-started.html'"
      ]
     },
     "execution_count": 33,
     "metadata": {},
     "output_type": "execute_result"
    }
   ],
   "source": [
    "pages[0]['href'].replace('./', BASE_URL)"
   ]
  },
  {
   "cell_type": "code",
   "execution_count": 34,
   "metadata": {
    "collapsed": true
   },
   "outputs": [],
   "source": [
    "def scrape(page_url):\n",
    "    soup = BeautifulSoup(requests.get(page_url).text, 'html.parser')\n",
    "    documents = []\n",
    "    links = []\n",
    "    for div in soup.find_all('div', {'class': 'section'}):\n",
    "        documents.append(div.get_text())\n",
    "        links.append('{0}#{1}'.format(page_url, div['id']))\n",
    "    return documents, links"
   ]
  },
  {
   "cell_type": "code",
   "execution_count": 35,
   "metadata": {
    "collapsed": true
   },
   "outputs": [],
   "source": [
    "def get_link(page):\n",
    "    return page['href'].replace('./', BASE_URL)"
   ]
  },
  {
   "cell_type": "code",
   "execution_count": 36,
   "metadata": {},
   "outputs": [
    {
     "name": "stdout",
     "output_type": "stream",
     "text": [
      "http://composingprograms.com/pages/11-getting-started.html\n",
      "http://composingprograms.com/pages/12-elements-of-programming.html\n",
      "http://composingprograms.com/pages/13-defining-new-functions.html\n",
      "http://composingprograms.com/pages/14-designing-functions.html\n",
      "http://composingprograms.com/pages/15-control.html\n",
      "http://composingprograms.com/pages/16-higher-order-functions.html\n",
      "Trying page 5 again\n",
      "http://composingprograms.com/pages/16-higher-order-functions.html\n",
      "http://composingprograms.com/pages/17-recursive-functions.html\n",
      "http://composingprograms.com/pages/21-introduction.html\n",
      "http://composingprograms.com/pages/22-data-abstraction.html\n",
      "http://composingprograms.com/pages/23-sequences.html\n",
      "http://composingprograms.com/pages/24-mutable-data.html\n",
      "http://composingprograms.com/pages/25-object-oriented-programming.html\n",
      "http://composingprograms.com/pages/26-implementing-classes-and-objects.html\n",
      "http://composingprograms.com/pages/27-object-abstraction.html\n",
      "Trying page 13 again\n",
      "http://composingprograms.com/pages/27-object-abstraction.html\n",
      "http://composingprograms.com/pages/28-efficiency.html\n",
      "Trying page 14 again\n",
      "http://composingprograms.com/pages/28-efficiency.html\n",
      "http://composingprograms.com/pages/29-recursive-objects.html\n",
      "http://composingprograms.com/pages/31-introduction.html\n",
      "http://composingprograms.com/pages/32-functional-programming.html\n",
      "http://composingprograms.com/pages/33-exceptions.html\n",
      "http://composingprograms.com/pages/34-interpreters-for-languages-with-combination.html\n",
      "http://composingprograms.com/pages/35-interpreters-for-languages-with-abstraction.html\n",
      "http://composingprograms.com/pages/41-introduction.html\n",
      "http://composingprograms.com/pages/42-implicit-sequences.html\n",
      "http://composingprograms.com/pages/43-declarative-programming.html\n",
      "http://composingprograms.com/pages/44-logic-programming.html\n",
      "http://composingprograms.com/pages/45-unification.html\n",
      "http://composingprograms.com/pages/46-distributed-computing.html\n",
      "http://composingprograms.com/pages/47-distributed-data-processing.html\n",
      "Trying page 27 again\n",
      "http://composingprograms.com/pages/47-distributed-data-processing.html\n",
      "http://composingprograms.com/pages/48-parallel-computing.html\n"
     ]
    }
   ],
   "source": [
    "documents = []\n",
    "links = []\n",
    "for i, page in enumerate(pages):\n",
    "    running = True\n",
    "    while running:\n",
    "        try:\n",
    "            link = get_link(page)\n",
    "            print(link)\n",
    "            new_documents, new_links = scrape(link)\n",
    "            documents.extend(new_documents)\n",
    "            links.extend(new_links)\n",
    "            running = False\n",
    "        except:\n",
    "            print('Trying page', i, 'again')"
   ]
  },
  {
   "cell_type": "code",
   "execution_count": 37,
   "metadata": {},
   "outputs": [
    {
     "data": {
      "text/plain": [
       "(['http://composingprograms.com/pages/11-getting-started.html#getting-started',\n",
       "  'http://composingprograms.com/pages/11-getting-started.html#programming-in-python',\n",
       "  'http://composingprograms.com/pages/11-getting-started.html#installing-python-3',\n",
       "  'http://composingprograms.com/pages/11-getting-started.html#interactive-sessions',\n",
       "  'http://composingprograms.com/pages/11-getting-started.html#first-example',\n",
       "  'http://composingprograms.com/pages/11-getting-started.html#errors',\n",
       "  'http://composingprograms.com/pages/12-elements-of-programming.html#elements-of-programming',\n",
       "  'http://composingprograms.com/pages/12-elements-of-programming.html#expressions',\n",
       "  'http://composingprograms.com/pages/12-elements-of-programming.html#call-expressions',\n",
       "  'http://composingprograms.com/pages/12-elements-of-programming.html#importing-library-functions',\n",
       "  'http://composingprograms.com/pages/12-elements-of-programming.html#names-and-the-environment',\n",
       "  'http://composingprograms.com/pages/12-elements-of-programming.html#evaluating-nested-expressions',\n",
       "  'http://composingprograms.com/pages/12-elements-of-programming.html#the-non-pure-print-function',\n",
       "  'http://composingprograms.com/pages/13-defining-new-functions.html#defining-new-functions',\n",
       "  'http://composingprograms.com/pages/13-defining-new-functions.html#environments',\n",
       "  'http://composingprograms.com/pages/13-defining-new-functions.html#calling-user-defined-functions',\n",
       "  'http://composingprograms.com/pages/13-defining-new-functions.html#example-calling-a-user-defined-function',\n",
       "  'http://composingprograms.com/pages/13-defining-new-functions.html#local-names',\n",
       "  'http://composingprograms.com/pages/13-defining-new-functions.html#choosing-names',\n",
       "  'http://composingprograms.com/pages/13-defining-new-functions.html#functions-as-abstractions',\n",
       "  'http://composingprograms.com/pages/13-defining-new-functions.html#operators',\n",
       "  'http://composingprograms.com/pages/14-designing-functions.html#designing-functions',\n",
       "  'http://composingprograms.com/pages/14-designing-functions.html#documentation',\n",
       "  'http://composingprograms.com/pages/14-designing-functions.html#default-argument-values',\n",
       "  'http://composingprograms.com/pages/15-control.html#control',\n",
       "  'http://composingprograms.com/pages/15-control.html#statements',\n",
       "  'http://composingprograms.com/pages/15-control.html#compound-statements',\n",
       "  'http://composingprograms.com/pages/15-control.html#defining-functions-ii-local-assignment',\n",
       "  'http://composingprograms.com/pages/15-control.html#conditional-statements',\n",
       "  'http://composingprograms.com/pages/15-control.html#iteration',\n",
       "  'http://composingprograms.com/pages/15-control.html#testing',\n",
       "  'http://composingprograms.com/pages/16-higher-order-functions.html#higher-order-functions',\n",
       "  'http://composingprograms.com/pages/16-higher-order-functions.html#functions-as-arguments',\n",
       "  'http://composingprograms.com/pages/16-higher-order-functions.html#functions-as-general-methods',\n",
       "  'http://composingprograms.com/pages/16-higher-order-functions.html#defining-functions-iii-nested-definitions',\n",
       "  'http://composingprograms.com/pages/16-higher-order-functions.html#functions-as-returned-values',\n",
       "  'http://composingprograms.com/pages/16-higher-order-functions.html#example-newton-s-method',\n",
       "  'http://composingprograms.com/pages/16-higher-order-functions.html#currying',\n",
       "  'http://composingprograms.com/pages/16-higher-order-functions.html#lambda-expressions',\n",
       "  'http://composingprograms.com/pages/16-higher-order-functions.html#abstractions-and-first-class-functions',\n",
       "  'http://composingprograms.com/pages/16-higher-order-functions.html#function-decorators',\n",
       "  'http://composingprograms.com/pages/17-recursive-functions.html#recursive-functions',\n",
       "  'http://composingprograms.com/pages/17-recursive-functions.html#the-anatomy-of-recursive-functions',\n",
       "  'http://composingprograms.com/pages/17-recursive-functions.html#mutual-recursion',\n",
       "  'http://composingprograms.com/pages/17-recursive-functions.html#printing-in-recursive-functions',\n",
       "  'http://composingprograms.com/pages/17-recursive-functions.html#tree-recursion',\n",
       "  'http://composingprograms.com/pages/17-recursive-functions.html#example-partitions',\n",
       "  'http://composingprograms.com/pages/21-introduction.html#introduction',\n",
       "  'http://composingprograms.com/pages/21-introduction.html#native-data-types',\n",
       "  'http://composingprograms.com/pages/22-data-abstraction.html#data-abstraction',\n",
       "  'http://composingprograms.com/pages/22-data-abstraction.html#example-rational-numbers',\n",
       "  'http://composingprograms.com/pages/22-data-abstraction.html#pairs',\n",
       "  'http://composingprograms.com/pages/22-data-abstraction.html#abstraction-barriers',\n",
       "  'http://composingprograms.com/pages/22-data-abstraction.html#the-properties-of-data',\n",
       "  'http://composingprograms.com/pages/23-sequences.html#sequences',\n",
       "  'http://composingprograms.com/pages/23-sequences.html#lists',\n",
       "  'http://composingprograms.com/pages/23-sequences.html#sequence-iteration',\n",
       "  'http://composingprograms.com/pages/23-sequences.html#sequence-processing',\n",
       "  'http://composingprograms.com/pages/23-sequences.html#sequence-abstraction',\n",
       "  'http://composingprograms.com/pages/23-sequences.html#strings',\n",
       "  'http://composingprograms.com/pages/23-sequences.html#trees',\n",
       "  'http://composingprograms.com/pages/23-sequences.html#linked-lists',\n",
       "  'http://composingprograms.com/pages/24-mutable-data.html#mutable-data',\n",
       "  'http://composingprograms.com/pages/24-mutable-data.html#the-object-metaphor',\n",
       "  'http://composingprograms.com/pages/24-mutable-data.html#sequence-objects',\n",
       "  'http://composingprograms.com/pages/24-mutable-data.html#dictionaries',\n",
       "  'http://composingprograms.com/pages/24-mutable-data.html#local-state',\n",
       "  'http://composingprograms.com/pages/24-mutable-data.html#the-benefits-of-non-local-assignment',\n",
       "  'http://composingprograms.com/pages/24-mutable-data.html#the-cost-of-non-local-assignment',\n",
       "  'http://composingprograms.com/pages/24-mutable-data.html#implementing-lists-and-dictionaries',\n",
       "  'http://composingprograms.com/pages/24-mutable-data.html#dispatch-dictionaries',\n",
       "  'http://composingprograms.com/pages/24-mutable-data.html#propagating-constraints',\n",
       "  'http://composingprograms.com/pages/25-object-oriented-programming.html#object-oriented-programming',\n",
       "  'http://composingprograms.com/pages/25-object-oriented-programming.html#objects-and-classes',\n",
       "  'http://composingprograms.com/pages/25-object-oriented-programming.html#defining-classes',\n",
       "  'http://composingprograms.com/pages/25-object-oriented-programming.html#message-passing-and-dot-expressions',\n",
       "  'http://composingprograms.com/pages/25-object-oriented-programming.html#class-attributes',\n",
       "  'http://composingprograms.com/pages/25-object-oriented-programming.html#inheritance',\n",
       "  'http://composingprograms.com/pages/25-object-oriented-programming.html#using-inheritance',\n",
       "  'http://composingprograms.com/pages/25-object-oriented-programming.html#multiple-inheritance',\n",
       "  'http://composingprograms.com/pages/25-object-oriented-programming.html#the-role-of-objects',\n",
       "  'http://composingprograms.com/pages/26-implementing-classes-and-objects.html#implementing-classes-and-objects',\n",
       "  'http://composingprograms.com/pages/26-implementing-classes-and-objects.html#instances',\n",
       "  'http://composingprograms.com/pages/26-implementing-classes-and-objects.html#classes',\n",
       "  'http://composingprograms.com/pages/26-implementing-classes-and-objects.html#using-implemented-objects',\n",
       "  'http://composingprograms.com/pages/27-object-abstraction.html#object-abstraction',\n",
       "  'http://composingprograms.com/pages/27-object-abstraction.html#string-conversion',\n",
       "  'http://composingprograms.com/pages/27-object-abstraction.html#special-methods',\n",
       "  'http://composingprograms.com/pages/27-object-abstraction.html#multiple-representations',\n",
       "  'http://composingprograms.com/pages/27-object-abstraction.html#generic-functions',\n",
       "  'http://composingprograms.com/pages/28-efficiency.html#efficiency',\n",
       "  'http://composingprograms.com/pages/28-efficiency.html#measuring-efficiency',\n",
       "  'http://composingprograms.com/pages/28-efficiency.html#memoization',\n",
       "  'http://composingprograms.com/pages/28-efficiency.html#orders-of-growth',\n",
       "  'http://composingprograms.com/pages/28-efficiency.html#example-exponentiation',\n",
       "  'http://composingprograms.com/pages/28-efficiency.html#growth-categories',\n",
       "  'http://composingprograms.com/pages/29-recursive-objects.html#recursive-objects',\n",
       "  'http://composingprograms.com/pages/29-recursive-objects.html#linked-list-class',\n",
       "  'http://composingprograms.com/pages/29-recursive-objects.html#tree-class',\n",
       "  'http://composingprograms.com/pages/29-recursive-objects.html#sets',\n",
       "  'http://composingprograms.com/pages/31-introduction.html#introduction',\n",
       "  'http://composingprograms.com/pages/31-introduction.html#programming-languages',\n",
       "  'http://composingprograms.com/pages/32-functional-programming.html#functional-programming',\n",
       "  'http://composingprograms.com/pages/32-functional-programming.html#expressions',\n",
       "  'http://composingprograms.com/pages/32-functional-programming.html#definitions',\n",
       "  'http://composingprograms.com/pages/32-functional-programming.html#compound-values',\n",
       "  'http://composingprograms.com/pages/32-functional-programming.html#symbolic-data',\n",
       "  'http://composingprograms.com/pages/32-functional-programming.html#turtle-graphics',\n",
       "  'http://composingprograms.com/pages/33-exceptions.html#exceptions',\n",
       "  'http://composingprograms.com/pages/33-exceptions.html#exception-objects',\n",
       "  'http://composingprograms.com/pages/34-interpreters-for-languages-with-combination.html#interpreters-for-languages-with-combination',\n",
       "  'http://composingprograms.com/pages/34-interpreters-for-languages-with-combination.html#a-scheme-syntax-calculator',\n",
       "  'http://composingprograms.com/pages/34-interpreters-for-languages-with-combination.html#expression-trees',\n",
       "  'http://composingprograms.com/pages/34-interpreters-for-languages-with-combination.html#parsing-expressions',\n",
       "  'http://composingprograms.com/pages/34-interpreters-for-languages-with-combination.html#calculator-evaluation',\n",
       "  'http://composingprograms.com/pages/35-interpreters-for-languages-with-abstraction.html#interpreters-for-languages-with-abstraction',\n",
       "  'http://composingprograms.com/pages/35-interpreters-for-languages-with-abstraction.html#structure',\n",
       "  'http://composingprograms.com/pages/35-interpreters-for-languages-with-abstraction.html#environments',\n",
       "  'http://composingprograms.com/pages/35-interpreters-for-languages-with-abstraction.html#data-as-programs',\n",
       "  'http://composingprograms.com/pages/41-introduction.html#introduction',\n",
       "  'http://composingprograms.com/pages/42-implicit-sequences.html#implicit-sequences',\n",
       "  'http://composingprograms.com/pages/42-implicit-sequences.html#python-iterators',\n",
       "  'http://composingprograms.com/pages/42-implicit-sequences.html#iterables',\n",
       "  'http://composingprograms.com/pages/42-implicit-sequences.html#for-statements',\n",
       "  'http://composingprograms.com/pages/42-implicit-sequences.html#generators-and-yield-statements',\n",
       "  'http://composingprograms.com/pages/42-implicit-sequences.html#creating-iterables-with-yield',\n",
       "  'http://composingprograms.com/pages/42-implicit-sequences.html#streams',\n",
       "  'http://composingprograms.com/pages/43-declarative-programming.html#declarative-programming',\n",
       "  'http://composingprograms.com/pages/43-declarative-programming.html#tables',\n",
       "  'http://composingprograms.com/pages/43-declarative-programming.html#select-statements',\n",
       "  'http://composingprograms.com/pages/43-declarative-programming.html#joins',\n",
       "  'http://composingprograms.com/pages/43-declarative-programming.html#interpreting-sql',\n",
       "  'http://composingprograms.com/pages/43-declarative-programming.html#recursive-select-statements',\n",
       "  'http://composingprograms.com/pages/43-declarative-programming.html#aggregation-and-grouping',\n",
       "  'http://composingprograms.com/pages/44-logic-programming.html#logic-programming',\n",
       "  'http://composingprograms.com/pages/44-logic-programming.html#facts-and-queries',\n",
       "  'http://composingprograms.com/pages/44-logic-programming.html#recursive-facts',\n",
       "  'http://composingprograms.com/pages/45-unification.html#unification',\n",
       "  'http://composingprograms.com/pages/45-unification.html#pattern-matching',\n",
       "  'http://composingprograms.com/pages/45-unification.html#representing-facts-and-queries',\n",
       "  'http://composingprograms.com/pages/45-unification.html#the-unification-algorithm',\n",
       "  'http://composingprograms.com/pages/45-unification.html#proofs',\n",
       "  'http://composingprograms.com/pages/45-unification.html#search',\n",
       "  'http://composingprograms.com/pages/46-distributed-computing.html#distributed-computing',\n",
       "  'http://composingprograms.com/pages/46-distributed-computing.html#messages',\n",
       "  'http://composingprograms.com/pages/46-distributed-computing.html#client-server-architecture',\n",
       "  'http://composingprograms.com/pages/46-distributed-computing.html#peer-to-peer-systems',\n",
       "  'http://composingprograms.com/pages/47-distributed-data-processing.html#distributed-data-processing',\n",
       "  'http://composingprograms.com/pages/47-distributed-data-processing.html#id1',\n",
       "  'http://composingprograms.com/pages/47-distributed-data-processing.html#local-implementation',\n",
       "  'http://composingprograms.com/pages/47-distributed-data-processing.html#distributed-implementation',\n",
       "  'http://composingprograms.com/pages/48-parallel-computing.html#parallel-computing',\n",
       "  'http://composingprograms.com/pages/48-parallel-computing.html#parallelism-in-python',\n",
       "  'http://composingprograms.com/pages/48-parallel-computing.html#the-problem-with-shared-state',\n",
       "  'http://composingprograms.com/pages/48-parallel-computing.html#when-no-synchronization-is-necessary',\n",
       "  'http://composingprograms.com/pages/48-parallel-computing.html#synchronized-data-structures',\n",
       "  'http://composingprograms.com/pages/48-parallel-computing.html#locks',\n",
       "  'http://composingprograms.com/pages/48-parallel-computing.html#barriers',\n",
       "  'http://composingprograms.com/pages/48-parallel-computing.html#message-passing',\n",
       "  'http://composingprograms.com/pages/48-parallel-computing.html#synchronization-pitfalls',\n",
       "  'http://composingprograms.com/pages/48-parallel-computing.html#conclusion'],\n",
       " 161)"
      ]
     },
     "execution_count": 37,
     "metadata": {},
     "output_type": "execute_result"
    }
   ],
   "source": [
    "links, len(links)"
   ]
  },
  {
   "cell_type": "code",
   "execution_count": 38,
   "metadata": {},
   "outputs": [
    {
     "data": {
      "text/plain": [
       "\"\\n1.1Â\\xa0Â\\xa0Â\\xa0Getting Started\\nComputer science is a tremendously broad academic discipline. The areas of\\nglobally distributed systems, artificial intelligence, robotics, graphics,\\nsecurity, scientific computing, computer architecture, and dozens of emerging\\nsub-fields all expand with new techniques and discoveries every year. The\\nrapid progress of computer science has left few aspects of human life\\nunaffected. Commerce, communication, science, art, leisure, and politics have\\nall been reinvented as computational domains.\\nThe high productivity of computer science is only possible because the\\ndiscipline is built upon an elegant and powerful set of fundamental ideas. All\\ncomputing begins with representing information, specifying logic to process it,\\nand designing abstractions that manage the complexity of that logic. Mastering\\nthese fundamentals will require us to understand precisely how computers\\ninterpret computer programs and carry out computational processes.\\nThese fundamental ideas have long been taught using the classic textbook\\nStructure and Interpretation of Computer Programs (SICP) by Harold Abelson\\nand Gerald Jay Sussman with Julie Sussman. This text borrows heavily from that\\ntextbook, which the original authors have kindly licensed for adaptation and\\nreuse under a Creative Commons license. These notes are published under the\\nCreative Commons attribution non-commericial share-alike license version 3.\\n\\n1.1.1Â\\xa0Â\\xa0Â\\xa0Programming in Python\\n\\nA language isn't something you learn so much as something you join.\\nâ\\x80\\x94Arika Okrent\\n\\nIn order to define computational processes, we need a programming language;\\npreferably one that many humans and a great variety of computers can all\\nunderstand.  In this text, we will work primarily with the Python language.\\nPython is a widely used programming language that has recruited enthusiasts from\\nmany professions: web programmers, game engineers, scientists, academics, and\\neven designers of new programming languages. When you learn Python, you join a\\nmillion-person-strong community of developers. Developer communities are\\ntremendously important institutions: members help each other solve problems,\\nshare their projects and experiences, and collectively develop software and\\ntools.  Dedicated members often achieve celebrity and widespread esteem for\\ntheir contributions.\\nThe Python language itself is the product of a large volunteer community that prides itself on the diversity of its contributors. The language\\nwas conceived and first implemented by Guido van Rossum in the late 1980's.\\nThe first chapter of his Python 3 Tutorial explains why Python is so\\npopular, among the many languages available today.\\nPython excels as an instructional language because, throughout its history,\\nPython's developers have emphasized the human interpretability of Python code,\\nreinforced by the Zen of Python guiding principles of beauty, simplicity, and\\nreadability. Python is particularly appropriate for this text because its broad\\nset of features support a variety of different programming styles, which we will\\nexplore. While there is no single way to program in Python, there are a set of\\nconventions shared across the developer community that facilitate reading,\\nunderstanding, and extending existing programs. Python's combination of great\\nflexibility and accessibility allows students to explore many programming\\nparadigms, and then apply their newly acquired knowledge to thousands of\\nongoing projects.\\nThese notes maintain the spirit of SICP by introducing the features of Python\\nin step with techniques for abstraction and a rigorous model of computation. In\\naddition, these notes provide a practical introduction to Python programming,\\nincluding some advanced language features and illustrative examples. Increasing\\nyour facility with Python should come naturally as you progress through the\\ntext.\\nThe best way to get started programming in Python is to interact with the\\ninterpreter directly. This section describes how to install Python 3, initiate\\nan interactive session with the interpreter, and start programming.\\n\\n\\n1.1.2Â\\xa0Â\\xa0Â\\xa0Installing Python 3\\nAs with all great software, Python has many versions. This text will use the\\nmost recent stable version of Python 3. Many computers have older versions of\\nPython installed already, such as Python 2.7, but those will not match the\\ndescriptions in this text. You should be able to use any computer, but expect to\\ninstall Python 3. (Don't worry, Python is free.)\\nYou can download Python 3 from the Python downloads page by clicking on the\\nversion that begins with 3 (not 2). Follow the instructions of the installer\\nto complete installation.\\nFor further guidance, try these video tutorials on Windows installation and\\nMac installation of Python 3, created by Julia Oh.\\n\\n\\n1.1.3Â\\xa0Â\\xa0Â\\xa0Interactive Sessions\\nIn an interactive Python session, you type some Python code after the\\nprompt, >>>. The Python interpreter reads and executes what you type,\\ncarrying out your various commands.\\nTo start an interactive session, run the Python 3 application. Type python3\\nat a terminal prompt (Mac/Unix/Linux) or open the Python 3 application in\\nWindows.\\nIf you see the Python prompt, >>>, then you have successfully started an\\ninteractive session. These notes depict example interactions using the prompt,\\nfollowed by some input.\\n>>> 2 + 2\\n4\\n\\nInteractive controls. Each session keeps a history of what you have typed.\\nTo access that history, press <Control>-P (previous) and <Control>-N\\n(next).  <Control>-D exits a session, which discards this history. Up and\\ndown arrows also cycle through history on some systems.\\n\\n\\n1.1.4Â\\xa0Â\\xa0Â\\xa0First Example\\n\\n\\nAnd, as imagination bodies forth\\nThe forms of things to unknown, and the poet's pen\\nTurns them to shapes, and gives to airy nothing\\nA local habitation and a name.\\n\\nâ\\x80\\x94William Shakespeare, A Midsummer-Night's Dream\\n\\nTo give Python a proper introduction, we will begin with an example that uses\\nseveral language features.  In the next section, we will start from scratch and\\nbuild up the language piece by piece. Think of this section as a sneak preview\\nof features to come.\\nPython has built-in support for a wide range of common programming activities,\\nsuch as manipulating text, displaying graphics, and communicating over the\\nInternet.  The line of Python code\\n>>> from urllib.request import urlopen\\n\\nis an import statement that loads functionality for accessing data on the\\nInternet. In particular, it makes available a function called urlopen, which\\ncan access the content at a uniform resource locator (URL), a location of\\nsomething on the Internet.\\nStatements & Expressions. Python code consists of expressions and\\nstatements. Broadly, computer programs consist of instructions to either\\n\\nCompute some value\\nCarry out some action\\n\\nStatements typically describe actions. When the Python interpreter executes a\\nstatement, it carries out the corresponding action. On the other hand,\\nexpressions typically describe computations. When Python evaluates an\\nexpression, it computes the value of that expression. This chapter introduces\\nseveral types of statements and expressions.\\nThe assignment statement\\n>>> shakespeare = urlopen('http://composingprograms.com/shakespeare.txt')\\n\\nassociates the name shakespeare with the value of the expression that\\nfollows =.  That expression applies the urlopen function to a URL that\\ncontains the complete text of William Shakespeare's 37 plays, all in a single\\ntext document.\\nFunctions. Functions encapsulate logic that manipulates data. urlopen\\nis a function.  A web address is a piece of data, and the text of Shakespeare's\\nplays is another. The process by which the former leads to the latter may be\\ncomplex, but we can apply that process using only a simple expression because\\nthat complexity is tucked away within a function. Functions are the primary\\ntopic of this chapter.\\nAnother assignment statement\\n>>> words = set(shakespeare.read().decode().split())\\n\\nassociates the name words to the set of all unique words that appear in\\nShakespeare's plays, all 33,721 of them.  The chain of commands to read,\\ndecode, and split, each operate on an intermediate computational entity:\\nwe read the data from the opened URL, then decode the data into text,\\nand finally split the text into words.  All of those words are placed in a\\nset.\\nObjects. A set is a type of object, one that supports set operations\\nlike computing intersections and membership. An object seamlessly bundles\\ntogether data and the logic that manipulates that data, in a way that manages\\nthe complexity of both. Objects are the primary topic of Chapter 2.  Finally,\\nthe expression\\n>>> {w for w in words if len(w) == 6 and w[::-1] in words}\\n{'redder', 'drawer', 'reward', 'diaper', 'repaid'}\\n\\nis a compound expression that evaluates to the set of all Shakespearian words\\nthat are simultaneously a word spelled in reverse. The cryptic notation\\nw[::-1] enumerates each letter in a word, but the -1 dictates to step\\nbackwards.  When you enter an expression in an interactive session, Python\\nprints its value on the following line.\\nInterpreters. Evaluating compound expressions requires a precise procedure\\nthat interprets code in a predictable way. A program that implements such a\\nprocedure, evaluating compound expressions, is called an interpreter. The\\ndesign and implementation of interpreters is the primary topic of Chapter 3.\\nWhen compared with other computer programs, interpreters for programming\\nlanguages are unique in their generality. Python was not designed with\\nShakespeare in mind. However, its great flexibility allowed us to process a\\nlarge amount of text with only a few statements and expressions.\\nIn the end, we will find that all of these core concepts are closely related:\\nfunctions are objects, objects are functions, and interpreters are instances of\\nboth. However, developing a clear understanding of each of these concepts and\\ntheir role in organizing code is critical to mastering the art of programming.\\n\\n\\n1.1.5Â\\xa0Â\\xa0Â\\xa0Errors\\nPython is waiting for your command.  You are encouraged to experiment with the\\nlanguage, even though you may not yet know its full vocabulary and structure.\\nHowever, be prepared for errors.  While computers are tremendously fast and\\nflexible, they are also extremely rigid. The nature of computers is described in\\nStanford's introductory course as\\n\\nThe fundamental equation of computers is:\\ncomputer = powerful + stupid\\nComputers are very powerful, looking at volumes of data very quickly.\\nComputers can perform billions of operations per second, where each operation\\nis pretty simple.\\nComputers are also shockingly stupid and fragile. The operations that they can\\ndo are extremely rigid, simple, and mechanical. The computer lacks anything\\nlike real insight ... it's nothing like the HAL 9000 from the movies. If\\nnothing else, you should not be intimidated by the computer as if it's some\\nsort of brain. It's very mechanical underneath it all.\\nProgramming is about a person using their real insight to build something\\nuseful, constructed out of these teeny, simple little operations that the\\ncomputer can do.\\nâ\\x80\\x94Francisco Cai and Nick Parlante, Stanford CS101\\n\\nThe rigidity of computers will immediately become apparent as you experiment\\nwith the Python interpreter: even the smallest spelling and formatting changes\\nwill cause unexpected output and errors.\\nLearning to interpret errors and diagnose the cause of unexpected errors is\\ncalled debugging. Some guiding principles of debugging are:\\n\\nTest incrementally: Every well-written program is composed of small,\\nmodular components that can be tested individually. Try out everything you\\nwrite as soon as possible to identify problems early and gain confidence in\\nyour components.\\nIsolate errors: An error in the output of a statement can typically be\\nattributed to a particular modular component.  When trying to diagnose a\\nproblem, trace the error to the smallest fragment of code you can before\\ntrying to correct it.\\nCheck your assumptions: Interpreters do carry out your instructions to\\nthe letter â\\x80\\x94 no more and no less. Their output is unexpected when the\\nbehavior of some code does not match what the programmer believes (or\\nassumes) that behavior to be. Know your assumptions, then focus your\\ndebugging effort on verifying that your assumptions actually hold.\\nConsult others: You are not alone!  If you don't understand an error\\nmessage, ask a friend, instructor, or search engine. If you have isolated an\\nerror, but can't figure out how to correct it, ask someone else to take a\\nlook. A lot of valuable programming knowledge is shared in the process of\\ngroup problem solving.\\n\\nIncremental testing, modular design, precise assumptions, and teamwork are\\nthemes that persist throughout this text. Hopefully, they will also persist\\nthroughout your computer science career.\\n\\n\""
      ]
     },
     "execution_count": 38,
     "metadata": {},
     "output_type": "execute_result"
    }
   ],
   "source": [
    "documents[0]"
   ]
  },
  {
   "cell_type": "code",
   "execution_count": 39,
   "metadata": {
    "collapsed": true
   },
   "outputs": [],
   "source": [
    "import re\n",
    "import nltk\n",
    "from nltk.corpus import stopwords\n",
    " \n",
    "sw = set(stopwords.words('english'))\n",
    "\n",
    "def get_words(document):\n",
    "    return [word for word in re.split('\\s+', re.sub('[^a-zA-Z]', ' ', document)) if word not in sw]"
   ]
  },
  {
   "cell_type": "code",
   "execution_count": 40,
   "metadata": {
    "collapsed": true
   },
   "outputs": [],
   "source": [
    "def generate_tagged_documents(documents):\n",
    "    return iter([TaggedDocument(get_words(document), [link]) for link, document in zip(links, documents)])\n",
    "        "
   ]
  },
  {
   "cell_type": "code",
   "execution_count": 41,
   "metadata": {
    "collapsed": true
   },
   "outputs": [],
   "source": [
    "it = generate_tagged_documents(documents)"
   ]
  },
  {
   "cell_type": "code",
   "execution_count": 42,
   "metadata": {
    "collapsed": true
   },
   "outputs": [],
   "source": [
    "model = Doc2Vec(alpha=.025, min_alpha=.025, min_count=1)"
   ]
  },
  {
   "cell_type": "code",
   "execution_count": 43,
   "metadata": {
    "collapsed": true
   },
   "outputs": [],
   "source": [
    "model.build_vocab(it)"
   ]
  },
  {
   "cell_type": "code",
   "execution_count": 44,
   "metadata": {
    "collapsed": true
   },
   "outputs": [],
   "source": [
    "model.train(it, total_examples=model.corpus_count, epochs=model.epochs)"
   ]
  },
  {
   "cell_type": "code",
   "execution_count": 23,
   "metadata": {},
   "outputs": [],
   "source": [
    "model.save('textbook.doc2vec')"
   ]
  },
  {
   "cell_type": "code",
   "execution_count": 46,
   "metadata": {},
   "outputs": [],
   "source": [
    "new_doc_vector = model.infer_vector(para.split(' '))"
   ]
  },
  {
   "cell_type": "code",
   "execution_count": 24,
   "metadata": {
    "collapsed": true
   },
   "outputs": [],
   "source": [
    "model = Doc2Vec.load('textbook.doc2vec')"
   ]
  },
  {
   "cell_type": "code",
   "execution_count": null,
   "metadata": {
    "collapsed": true
   },
   "outputs": [],
   "source": []
  },
  {
   "cell_type": "code",
   "execution_count": 47,
   "metadata": {
    "collapsed": true
   },
   "outputs": [],
   "source": [
    "import numpy as np\n",
    "\n",
    "def cosine_similarity(v1, v2):\n",
    "    return np.dot(v1, v2) / (np.linalg.norm(v1) * np.linalg.norm(v2))"
   ]
  },
  {
   "cell_type": "code",
   "execution_count": 48,
   "metadata": {},
   "outputs": [
    {
     "data": {
      "text/plain": [
       "(71, 0.28020421)"
      ]
     },
     "execution_count": 48,
     "metadata": {},
     "output_type": "execute_result"
    }
   ],
   "source": [
    "arg_best, best = -1, -1\n",
    "\n",
    "try:\n",
    "    for i, vector in enumerate(model.docvecs):\n",
    "        sim = cosine_similarity(vector, new_doc_vector)\n",
    "        if sim > best:\n",
    "            arg_best, best = i, sim\n",
    "except:\n",
    "    pass\n",
    "arg_best, best"
   ]
  },
  {
   "cell_type": "code",
   "execution_count": 49,
   "metadata": {},
   "outputs": [
    {
     "data": {
      "text/plain": [
       "'http://composingprograms.com/pages/24-mutable-data.html#propagating-constraints'"
      ]
     },
     "execution_count": 49,
     "metadata": {},
     "output_type": "execute_result"
    }
   ],
   "source": [
    "links[71]"
   ]
  },
  {
   "cell_type": "code",
   "execution_count": 45,
   "metadata": {
    "collapsed": true
   },
   "outputs": [],
   "source": [
    "para = 'Lists are immutable data types'"
   ]
  },
  {
   "cell_type": "code",
   "execution_count": null,
   "metadata": {
    "collapsed": true
   },
   "outputs": [],
   "source": []
  }
 ],
 "metadata": {
  "kernelspec": {
   "display_name": "Python (deeplearning)",
   "language": "python",
   "name": "deeplearning"
  },
  "language_info": {
   "codemirror_mode": {
    "name": "ipython",
    "version": 3
   },
   "file_extension": ".py",
   "mimetype": "text/x-python",
   "name": "python",
   "nbconvert_exporter": "python",
   "pygments_lexer": "ipython3",
   "version": "3.6.3"
  }
 },
 "nbformat": 4,
 "nbformat_minor": 2
}
